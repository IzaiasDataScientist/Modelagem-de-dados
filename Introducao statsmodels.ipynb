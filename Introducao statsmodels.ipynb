{
 "cells": [
  {
   "cell_type": "markdown",
   "id": "0646641f",
   "metadata": {},
   "source": [
    "# Estimando modelos lineares"
   ]
  },
  {
   "cell_type": "code",
   "execution_count": 1,
   "id": "7db4a4cc",
   "metadata": {},
   "outputs": [],
   "source": [
    "import statsmodels.api as sm \n",
    "import statsmodels.formula.api as smf\n",
    "import numpy as np\n",
    "import pandas as pd"
   ]
  },
  {
   "cell_type": "code",
   "execution_count": 2,
   "id": "260d5ac5",
   "metadata": {},
   "outputs": [],
   "source": [
    "# Gerar um modelo linear a partir de alguns dados aleatórios\n",
    "def dnorm(mean, variance, size=1):\n",
    "    if isinstance(size, int):\n",
    "        size = size,\n",
    "    return mean + np.sqrt(variance) * np.random.randn(*size)"
   ]
  },
  {
   "cell_type": "code",
   "execution_count": 3,
   "id": "960df400",
   "metadata": {},
   "outputs": [],
   "source": [
    "# Para possibilitar uma reprodução\n",
    "rng = np.random.default_rng(seed=12345)\n",
    "\n",
    "N = 100\n",
    "X = np.c_[dnorm(0, 0.4, size=N),\n",
    "          dnorm(0, 0.6, size=N),\n",
    "          dnorm(0, 0.2, size=N)]\n",
    "eps = dnorm(0, 0.1, size=N)\n",
    "beta = [0.1, 0.3, 0.5]\n",
    "\n",
    "y = np.dot(X, beta) + eps"
   ]
  },
  {
   "cell_type": "code",
   "execution_count": 4,
   "id": "e72cab3b",
   "metadata": {},
   "outputs": [
    {
     "data": {
      "text/plain": [
       "array([[-0.10097656,  0.92698709,  0.63699036],\n",
       "       [-0.4617771 , -0.27960806, -0.27622907],\n",
       "       [-0.60732433,  1.44241868, -0.2832296 ],\n",
       "       [-1.93295274, -0.17316474, -0.00719193],\n",
       "       [-0.81006057,  0.59728404, -0.45368153]])"
      ]
     },
     "execution_count": 4,
     "metadata": {},
     "output_type": "execute_result"
    }
   ],
   "source": [
    "# Mostrando X\n",
    "X[:5]"
   ]
  },
  {
   "cell_type": "code",
   "execution_count": 5,
   "id": "e64db375",
   "metadata": {},
   "outputs": [
    {
     "data": {
      "text/plain": [
       "array([ 0.3731393 , -0.68513577,  0.42434282, -0.28238359, -0.17729788])"
      ]
     },
     "execution_count": 5,
     "metadata": {},
     "output_type": "execute_result"
    }
   ],
   "source": [
    "# Mostrando y\n",
    "y[:5]"
   ]
  },
  {
   "cell_type": "code",
   "execution_count": 6,
   "id": "5fa5d7d5",
   "metadata": {},
   "outputs": [
    {
     "data": {
      "text/plain": [
       "array([[ 1.        , -0.10097656,  0.92698709,  0.63699036],\n",
       "       [ 1.        , -0.4617771 , -0.27960806, -0.27622907],\n",
       "       [ 1.        , -0.60732433,  1.44241868, -0.2832296 ],\n",
       "       [ 1.        , -1.93295274, -0.17316474, -0.00719193],\n",
       "       [ 1.        , -0.81006057,  0.59728404, -0.45368153]])"
      ]
     },
     "execution_count": 6,
     "metadata": {},
     "output_type": "execute_result"
    }
   ],
   "source": [
    "# Adicionar uma coluna de uns a um array\n",
    "X_model = sm.add_constant(X)\n",
    "X_model[:5]"
   ]
  },
  {
   "cell_type": "code",
   "execution_count": 7,
   "id": "c166e58a",
   "metadata": {},
   "outputs": [],
   "source": [
    "# A função sm.add_constant pode adicionar uma coluna de interceptação em uma matriz existente\n",
    "model = sm.OLS(y, X)"
   ]
  },
  {
   "cell_type": "code",
   "execution_count": 8,
   "id": "797f0eba",
   "metadata": {},
   "outputs": [
    {
     "data": {
      "text/plain": [
       "array([0.02087758, 0.32334906, 0.3880625 ])"
      ]
     },
     "execution_count": 8,
     "metadata": {},
     "output_type": "execute_result"
    }
   ],
   "source": [
    "# O método fit do modelo devolve um objeto de resultado da regressão contendo os parâmetros estimados do \n",
    "# modelo e outros diagnósticos\n",
    "results = model.fit()\n",
    "results.params\n"
   ]
  },
  {
   "cell_type": "code",
   "execution_count": 9,
   "id": "be0eae76",
   "metadata": {},
   "outputs": [
    {
     "name": "stdout",
     "output_type": "stream",
     "text": [
      "                                 OLS Regression Results                                \n",
      "=======================================================================================\n",
      "Dep. Variable:                      y   R-squared (uncentered):                   0.602\n",
      "Model:                            OLS   Adj. R-squared (uncentered):              0.589\n",
      "Method:                 Least Squares   F-statistic:                              48.87\n",
      "Date:                Fri, 14 Apr 2023   Prob (F-statistic):                    2.49e-19\n",
      "Time:                        12:35:25   Log-Likelihood:                         -6.9233\n",
      "No. Observations:                 100   AIC:                                      19.85\n",
      "Df Residuals:                      97   BIC:                                      27.66\n",
      "Df Model:                           3                                                  \n",
      "Covariance Type:            nonrobust                                                  \n",
      "==============================================================================\n",
      "                 coef    std err          t      P>|t|      [0.025      0.975]\n",
      "------------------------------------------------------------------------------\n",
      "x1             0.0209      0.037      0.572      0.569      -0.052       0.093\n",
      "x2             0.3233      0.032      9.955      0.000       0.259       0.388\n",
      "x3             0.3881      0.061      6.347      0.000       0.267       0.509\n",
      "==============================================================================\n",
      "Omnibus:                        0.264   Durbin-Watson:                   1.967\n",
      "Prob(Omnibus):                  0.876   Jarque-Bera (JB):                0.054\n",
      "Skew:                          -0.044   Prob(JB):                        0.973\n",
      "Kurtosis:                       3.072   Cond. No.                         1.90\n",
      "==============================================================================\n",
      "\n",
      "Notes:\n",
      "[1] R² is computed without centering (uncentered) since the model does not contain a constant.\n",
      "[2] Standard Errors assume that the covariance matrix of the errors is correctly specified.\n"
     ]
    }
   ],
   "source": [
    "# O método summary em results é capaz de exibir uma saída de diagnóstico do detalhadamente do modelo\n",
    "print(results.summary())"
   ]
  },
  {
   "cell_type": "code",
   "execution_count": 10,
   "id": "244ca8b7",
   "metadata": {},
   "outputs": [
    {
     "data": {
      "text/html": [
       "<div>\n",
       "<style scoped>\n",
       "    .dataframe tbody tr th:only-of-type {\n",
       "        vertical-align: middle;\n",
       "    }\n",
       "\n",
       "    .dataframe tbody tr th {\n",
       "        vertical-align: top;\n",
       "    }\n",
       "\n",
       "    .dataframe thead th {\n",
       "        text-align: right;\n",
       "    }\n",
       "</style>\n",
       "<table border=\"1\" class=\"dataframe\">\n",
       "  <thead>\n",
       "    <tr style=\"text-align: right;\">\n",
       "      <th></th>\n",
       "      <th>col0</th>\n",
       "      <th>col1</th>\n",
       "      <th>col2</th>\n",
       "      <th>y</th>\n",
       "    </tr>\n",
       "  </thead>\n",
       "  <tbody>\n",
       "    <tr>\n",
       "      <th>0</th>\n",
       "      <td>-0.100977</td>\n",
       "      <td>0.926987</td>\n",
       "      <td>0.636990</td>\n",
       "      <td>0.373139</td>\n",
       "    </tr>\n",
       "    <tr>\n",
       "      <th>1</th>\n",
       "      <td>-0.461777</td>\n",
       "      <td>-0.279608</td>\n",
       "      <td>-0.276229</td>\n",
       "      <td>-0.685136</td>\n",
       "    </tr>\n",
       "    <tr>\n",
       "      <th>2</th>\n",
       "      <td>-0.607324</td>\n",
       "      <td>1.442419</td>\n",
       "      <td>-0.283230</td>\n",
       "      <td>0.424343</td>\n",
       "    </tr>\n",
       "    <tr>\n",
       "      <th>3</th>\n",
       "      <td>-1.932953</td>\n",
       "      <td>-0.173165</td>\n",
       "      <td>-0.007192</td>\n",
       "      <td>-0.282384</td>\n",
       "    </tr>\n",
       "    <tr>\n",
       "      <th>4</th>\n",
       "      <td>-0.810061</td>\n",
       "      <td>0.597284</td>\n",
       "      <td>-0.453682</td>\n",
       "      <td>-0.177298</td>\n",
       "    </tr>\n",
       "  </tbody>\n",
       "</table>\n",
       "</div>"
      ],
      "text/plain": [
       "       col0      col1      col2         y\n",
       "0 -0.100977  0.926987  0.636990  0.373139\n",
       "1 -0.461777 -0.279608 -0.276229 -0.685136\n",
       "2 -0.607324  1.442419 -0.283230  0.424343\n",
       "3 -1.932953 -0.173165 -0.007192 -0.282384\n",
       "4 -0.810061  0.597284 -0.453682 -0.177298"
      ]
     },
     "execution_count": 10,
     "metadata": {},
     "output_type": "execute_result"
    }
   ],
   "source": [
    "# Novo DataFrame, e adicionando a coluna y\n",
    "data = pd.DataFrame(X, columns=['col0', 'col1', 'col2'])\n",
    "\n",
    "data['y'] = y\n",
    "\n",
    "data[:5]"
   ]
  },
  {
   "cell_type": "code",
   "execution_count": 11,
   "id": "bc4d4684",
   "metadata": {},
   "outputs": [
    {
     "data": {
      "text/plain": [
       "Intercept    0.015013\n",
       "col0         0.020697\n",
       "col1         0.323955\n",
       "col2         0.383970\n",
       "dtype: float64"
      ]
     },
     "execution_count": 11,
     "metadata": {},
     "output_type": "execute_result"
    }
   ],
   "source": [
    "# Usar a API de fórmulas do statsmodels e as strings de fórmulas do Patsy\n",
    "results = smf.ols('y ~ col0 + col1 + col2', data=data).fit()\n",
    "\n",
    "results.params"
   ]
  },
  {
   "cell_type": "code",
   "execution_count": 12,
   "id": "571c8eef",
   "metadata": {},
   "outputs": [
    {
     "data": {
      "text/plain": [
       "Intercept    0.564034\n",
       "col0         0.564876\n",
       "col1         9.932795\n",
       "col2         6.214569\n",
       "dtype: float64"
      ]
     },
     "execution_count": 12,
     "metadata": {},
     "output_type": "execute_result"
    }
   ],
   "source": [
    "# Usando a propriedade tvalues\n",
    "results.tvalues"
   ]
  },
  {
   "cell_type": "code",
   "execution_count": 13,
   "id": "01debd8d",
   "metadata": {},
   "outputs": [
    {
     "data": {
      "text/plain": [
       "0    0.557810\n",
       "1   -0.191189\n",
       "2    0.360971\n",
       "3   -0.083852\n",
       "4    0.017540\n",
       "dtype: float64"
      ]
     },
     "execution_count": 13,
     "metadata": {},
     "output_type": "execute_result"
    }
   ],
   "source": [
    "# Podemos calcular os valores previstos, considerando os parâmetros estimados pelo modelo\n",
    "results.predict(data[:5])"
   ]
  },
  {
   "cell_type": "raw",
   "id": "ed53899f",
   "metadata": {},
   "source": [
    "Estimando processos de séries temporais"
   ]
  },
  {
   "cell_type": "code",
   "execution_count": 14,
   "id": "2eeb2961",
   "metadata": {},
   "outputs": [],
   "source": [
    "# Simular alguns dados de séries temporais com uma estrutura autorregressiva e ruído\n",
    "init_x = 4\n",
    "\n",
    "values = [init_x, init_x]\n",
    "N = 1000\n",
    "\n",
    "b0 = 0.8\n",
    "b1 = -0.4\n",
    "noise = dnorm(0, 0.1, N)\n",
    "for i in range(N):\n",
    "    new_x = values[-1] * b0 + values[-2] * b1 + noise[i]\n",
    "    values.append(new_x)"
   ]
  },
  {
   "cell_type": "code",
   "execution_count": 15,
   "id": "a60bcd86",
   "metadata": {},
   "outputs": [],
   "source": [
    "# Podemos fazer a adequação do modelo com um número maior de defasagens\n",
    "from statsmodels.tsa.ar_model import AutoReg\n",
    "MAXLAGS = 5\n",
    "model = AutoReg(values, MAXLAGS)\n",
    "results = model.fit()"
   ]
  },
  {
   "cell_type": "code",
   "execution_count": 16,
   "id": "28e2597a",
   "metadata": {},
   "outputs": [
    {
     "data": {
      "text/plain": [
       "array([-0.00948485,  0.80974801, -0.44095373,  0.05148024, -0.0563773 ,\n",
       "        0.02984335])"
      ]
     },
     "execution_count": 16,
     "metadata": {},
     "output_type": "execute_result"
    }
   ],
   "source": [
    "# Os parâmetros estimados no resultado têm a intercepção antes e as estimativas para as duas primeiras defasagens\n",
    "results.params"
   ]
  },
  {
   "cell_type": "code",
   "execution_count": null,
   "id": "d07aa86e",
   "metadata": {},
   "outputs": [],
   "source": []
  }
 ],
 "metadata": {
  "kernelspec": {
   "display_name": "Python 3",
   "language": "python",
   "name": "python3"
  },
  "language_info": {
   "codemirror_mode": {
    "name": "ipython",
    "version": 3
   },
   "file_extension": ".py",
   "mimetype": "text/x-python",
   "name": "python",
   "nbconvert_exporter": "python",
   "pygments_lexer": "ipython3",
   "version": "3.8.10"
  }
 },
 "nbformat": 4,
 "nbformat_minor": 5
}
